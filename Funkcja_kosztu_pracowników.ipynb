{
  "nbformat": 4,
  "nbformat_minor": 0,
  "metadata": {
    "colab": {
      "name": "Funkcja kosztu pracowników.ipynb",
      "provenance": [],
      "authorship_tag": "ABX9TyPARLU3meDeTFKD4OgRAXi2",
      "include_colab_link": true
    },
    "kernelspec": {
      "name": "python3",
      "display_name": "Python 3"
    }
  },
  "cells": [
    {
      "cell_type": "markdown",
      "metadata": {
        "id": "view-in-github",
        "colab_type": "text"
      },
      "source": [
        "<a href=\"https://colab.research.google.com/github/wojciecho6/MISP_WD/blob/main/Funkcja_kosztu_pracownik%C3%B3w.ipynb\" target=\"_parent\"><img src=\"https://colab.research.google.com/assets/colab-badge.svg\" alt=\"Open In Colab\"/></a>"
      ]
    },
    {
      "cell_type": "code",
      "metadata": {
        "id": "iyQ-ML096r6C"
      },
      "source": [
        "!pip install pulp\n",
        "\n",
        "!sudo apt-get install coinor-cbc glpk-utils coinor-clp"
      ],
      "execution_count": null,
      "outputs": []
    },
    {
      "cell_type": "code",
      "metadata": {
        "id": "RBHF9ZDH62qN",
        "colab": {
          "base_uri": "https://localhost:8080/"
        },
        "outputId": "1904e444-fc60-4515-a35a-da3500a45a56"
      },
      "source": [
        "import pulp\n",
        "\n",
        "print(pulp.__version__)"
      ],
      "execution_count": 7,
      "outputs": [
        {
          "output_type": "stream",
          "text": [
            "2.3.1\n"
          ],
          "name": "stdout"
        }
      ]
    },
    {
      "cell_type": "code",
      "metadata": {
        "id": "yTgJ1TaL66J7"
      },
      "source": [
        "pulp.pulpTestAll()"
      ],
      "execution_count": null,
      "outputs": []
    },
    {
      "cell_type": "code",
      "metadata": {
        "id": "rRiFnmTr7ARE",
        "colab": {
          "base_uri": "https://localhost:8080/"
        },
        "outputId": "e15e8e44-d556-4440-8a15-f3dc9ed273e9"
      },
      "source": [
        "from pulp import *\n",
        "\n",
        "prob = LpProblem(\"Minimum_salaries_for_workers\",LpMinimize)\n",
        "\n",
        "### Variables (name, Lo, Hi, Type) workers\n",
        "A_mon = LpVariable(\"Ania_pon\", 0, 1, LpInteger)\n",
        "A_tue = LpVariable(\"Ania_wt\", 0, 1, LpInteger)\n",
        "A_wed = LpVariable(\"Ania_sr\", 0, 1, LpInteger)\n",
        "A_thu = LpVariable(\"Ania_czw\", 0, 1, LpInteger)\n",
        "A_fri = LpVariable(\"Ania_pt\", 0, 1, LpInteger)\n",
        "S_mon = LpVariable(\"Stefan_pon\", 0, 1, LpInteger)\n",
        "S_tue = LpVariable(\"Stefan_wt\", 0, 1, LpInteger)\n",
        "S_wed = LpVariable(\"Stefan_sr\", 0, 1, LpInteger)\n",
        "S_thu = LpVariable(\"Stefan_czw\", 0, 1, LpInteger)\n",
        "S_fri = LpVariable(\"Stefan_pt\", 0, 1, LpInteger)\n",
        "H_mon = LpVariable(\"Hektor_pon\", 0, 1, LpInteger)\n",
        "H_tue = LpVariable(\"Hektor_wt\", 0, 1, LpInteger)\n",
        "H_wed = LpVariable(\"Hektor_sr\", 0, 1, LpInteger)\n",
        "H_thu = LpVariable(\"Hektor_czw\", 0, 1, LpInteger)\n",
        "H_fri = LpVariable(\"Hektor_pt\", 0, 1, LpInteger)\n",
        "O_mon = LpVariable(\"Olaf_pon\", 0, 1, LpInteger)\n",
        "O_tue = LpVariable(\"Olaf_wt\", 0, 1, LpInteger)\n",
        "O_wed = LpVariable(\"Olaf_sr\", 0, 1, LpInteger)\n",
        "O_thu = LpVariable(\"Olaf_czw\", 0, 1, LpInteger)\n",
        "O_fri = LpVariable(\"Olaf_pt\", 0, 1, LpInteger)\n",
        "L_mon = LpVariable(\"Lidia_pon\", 0, 1, LpInteger)\n",
        "L_tue = LpVariable(\"Lidia_wt\", 0, 1, LpInteger)\n",
        "L_wed = LpVariable(\"Lidia_sr\", 0, 1, LpInteger)\n",
        "L_thu = LpVariable(\"Lidia_czw\", 0, 1, LpInteger)\n",
        "L_fri = LpVariable(\"Lidia_pt\", 0, 1, LpInteger)\n",
        "P_mon = LpVariable(\"Piotr_pon\", 0, 1, LpInteger)\n",
        "P_tue = LpVariable(\"Piotr_wt\", 0, 1, LpInteger)\n",
        "P_wed = LpVariable(\"Piotr_sr\", 0, 1, LpInteger)\n",
        "P_thu = LpVariable(\"Piotr_czw\", 0, 1, LpInteger)\n",
        "P_fri = LpVariable(\"Piotr_pt\", 0, 1, LpInteger)\n",
        "\n",
        "\n",
        "### earnings in zl per hour -> constant\n",
        "A_rate = 100\n",
        "S_rate = 50\n",
        "H_rate = 60\n",
        "O_rate = 40\n",
        "L_rate = 110\n",
        "P_rate = 70\n",
        "\n",
        "### Main problem\n",
        "prob += (A_mon+A_tue+A_wed+A_thu+A_fri) * A_rate + (S_mon+S_tue+S_wed+S_thu+S_fri) * S_rate + (H_mon+H_tue+H_wed+H_thu+H_fri) * H_rate + (O_mon+O_tue+O_wed+O_thu+O_fri) * O_rate + (L_mon+L_tue+L_wed+L_thu+L_fri) * L_rate + (P_mon+P_tue+P_wed+P_thu+P_fri) * P_rate, \"minimum_cost\"\n",
        "\n",
        "### Constraints\n",
        "\n",
        "#amount of people for each day\n",
        "prob += A_mon+S_mon+H_mon+O_mon+L_mon+P_mon == 2, \"mon\"\n",
        "prob += A_tue+S_tue+H_tue+O_tue+L_tue+P_tue== 1, \"tue\"\n",
        "prob += A_wed+S_wed+H_wed+O_wed+L_wed+P_wed == 1, \"wed\"\n",
        "prob += A_thu+S_thu+H_thu+O_thu+L_thu+P_thu == 1, \"thu\"\n",
        "prob += A_fri+S_fri+H_fri+O_fri+L_fri+P_fri == 3, \"fri\"\n",
        "\n",
        "# out of work days\n",
        "prob += S_tue+S_wed+S_thu+S_fri == 0 , \"S_out\"\n",
        "prob += H_thu+H_fri == 0, \"H_out\"\n",
        "prob += L_mon+L_tue+L_wed == 0, \"L_out\"\n",
        "prob += P_thu+P_fri == 0, \"P_out\"\n",
        "\n",
        "# max amount of working day\n",
        "prob += A_mon+A_tue+A_wed+A_thu+A_fri <= 3, \"A_3_days\" \n",
        "prob += S_mon+S_tue+S_wed+S_thu+S_fri <= 3, \"S_3_days\" \n",
        "prob += H_mon+H_tue+H_wed+H_thu+H_fri <= 3, \"H_3_days\" \n",
        "prob += O_mon+O_tue+O_wed+O_thu+O_fri <= 3, \"O_3_days\"\n",
        "prob += L_mon+L_tue+L_wed+L_thu+L_fri <= 3, \"L_3_days\"\n",
        "prob += P_mon+P_tue+P_wed+P_thu+P_fri <= 3, \"P_3_days\"\n",
        "\n",
        "prob.writeLP(\"week.lp\")\n",
        "\n",
        "prob.solve()\n",
        "print(\"Status:\", LpStatus[prob.status])\n",
        "\n",
        "print(\"Overall cost:\", value(prob.objective), \"zl\\n\") \n",
        "\n",
        "for v in prob.variables():\n",
        "    print(v.name, \"=\", v.varValue)"
      ],
      "execution_count": 6,
      "outputs": [
        {
          "output_type": "stream",
          "text": [
            "Status: Optimal\n",
            "Overall cost: 500.0 zl\n",
            "\n",
            "Ania_czw = 0.0\n",
            "Ania_pon = 0.0\n",
            "Ania_pt = 1.0\n",
            "Ania_sr = 0.0\n",
            "Ania_wt = 0.0\n",
            "Hektor_czw = 0.0\n",
            "Hektor_pon = 1.0\n",
            "Hektor_pt = 0.0\n",
            "Hektor_sr = 1.0\n",
            "Hektor_wt = 0.0\n",
            "Lidia_czw = 0.0\n",
            "Lidia_pon = 0.0\n",
            "Lidia_pt = 1.0\n",
            "Lidia_sr = 0.0\n",
            "Lidia_wt = 0.0\n",
            "Olaf_czw = 1.0\n",
            "Olaf_pon = 0.0\n",
            "Olaf_pt = 1.0\n",
            "Olaf_sr = 0.0\n",
            "Olaf_wt = 1.0\n",
            "Piotr_czw = 0.0\n",
            "Piotr_pon = 0.0\n",
            "Piotr_pt = 0.0\n",
            "Piotr_sr = 0.0\n",
            "Piotr_wt = 0.0\n",
            "Stefan_czw = 0.0\n",
            "Stefan_pon = 1.0\n",
            "Stefan_pt = 0.0\n",
            "Stefan_sr = 0.0\n",
            "Stefan_wt = 0.0\n"
          ],
          "name": "stdout"
        }
      ]
    }
  ]
}