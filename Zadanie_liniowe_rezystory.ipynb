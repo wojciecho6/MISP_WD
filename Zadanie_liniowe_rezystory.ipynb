{
  "nbformat": 4,
  "nbformat_minor": 0,
  "metadata": {
    "colab": {
      "name": "Zadanie liniowe - rezystory.ipynb",
      "provenance": [],
      "collapsed_sections": [],
      "authorship_tag": "ABX9TyNS0hzbqJFlReQcsQGADiWE",
      "include_colab_link": true
    },
    "kernelspec": {
      "name": "python3",
      "display_name": "Python 3"
    }
  },
  "cells": [
    {
      "cell_type": "markdown",
      "metadata": {
        "id": "view-in-github",
        "colab_type": "text"
      },
      "source": [
        "<a href=\"https://colab.research.google.com/github/wojciecho6/MISP_WD/blob/main/Zadanie_liniowe_rezystory.ipynb\" target=\"_parent\"><img src=\"https://colab.research.google.com/assets/colab-badge.svg\" alt=\"Open In Colab\"/></a>"
      ]
    },
    {
      "cell_type": "code",
      "metadata": {
        "id": "2kf6ayvbekzz"
      },
      "source": [
        "!pip install pulp\n",
        "\n",
        "!sudo apt-get install coinor-cbc glpk-utils coinor-clp"
      ],
      "execution_count": null,
      "outputs": []
    },
    {
      "cell_type": "code",
      "metadata": {
        "id": "XnnrqvuTez_c",
        "colab": {
          "base_uri": "https://localhost:8080/"
        },
        "outputId": "26ca6149-e714-4bd0-88f9-62ea0b5cc12b"
      },
      "source": [
        "import pulp\n",
        "\n",
        "print(pulp.__version__)"
      ],
      "execution_count": 2,
      "outputs": [
        {
          "output_type": "stream",
          "text": [
            "2.3.1\n"
          ],
          "name": "stdout"
        }
      ]
    },
    {
      "cell_type": "code",
      "metadata": {
        "id": "LGV1dgIxe2rq"
      },
      "source": [
        "pulp.pulpTestAll()"
      ],
      "execution_count": null,
      "outputs": []
    },
    {
      "cell_type": "code",
      "metadata": {
        "id": "4GeIyCSFe6LM"
      },
      "source": [
        "from pulp import *\n",
        "import pandas as pd"
      ],
      "execution_count": 3,
      "outputs": []
    },
    {
      "cell_type": "markdown",
      "metadata": {
        "id": "QahmFj7Ml90N"
      },
      "source": [
        ""
      ]
    },
    {
      "cell_type": "code",
      "metadata": {
        "id": "KFaUlMBSe7CT",
        "colab": {
          "base_uri": "https://localhost:8080/"
        },
        "outputId": "f64de987-03ae-4161-c906-6aa1ff6a4b3c"
      },
      "source": [
        "prob = LpProblem(\"Najmniejsza moc rozpraszana na rezystorach \", LpMinimize)\n",
        "u=[6, 10, 4, 7, 3];\n",
        "i=[4, 2, 2, 2, 4];\n",
        "\n",
        "\n",
        "i0 = LpVariable(\"i1\", 0)\n",
        "i1 = LpVariable(\"i2\", 0)\n",
        "i2 = LpVariable(\"i3\", 0)\n",
        "i3 = LpVariable(\"i4\", 0)\n",
        "i4 = LpVariable(\"i5\", 0)\n",
        "\n",
        "prob +=  i0*u[0]+i1*u[1]+i2*u[2]+i3*u[3]+i4*u[4]\n",
        "prob += i3+i2 == i0, \"kirchoff_i1\"\n",
        "prob += -i2+i0 == i3, \"kirchoff_i4\"\n",
        "prob += -i3+i0 == i2, \"kirchoff_i3\"\n",
        "prob += -i2+i4 == i1, \"kirchoff_i2\"\n",
        "prob += i1+i2 == i4, \"kirchoff_i5\"\n",
        "prob += i0 >= 3, \"ograniczenie dolne i1\"\n",
        "prob += i0 <= 5, \"ograniczenie gorne i1\"\n",
        "prob += i1 >= 1, \"ograniczenie dolne i2\"\n",
        "prob += i1 <= 3, \"ograniczenie gorne i2\"\n",
        "prob += i2 >= 1,\"ograniczenie dolne i3\"\n",
        "prob += i2 <= 3, \"ograniczenie gorne i3\"\n",
        "prob += i3 >= 1,\"ograniczenie dolne i4\"\n",
        "prob += i3 <= 3, \"ograniczenie gorne i4\"\n",
        "prob += i4 >= 3,\"ograniczenie dolne i5\"\n",
        "prob += i4 <= 5, \"ograniczenie gorne i5\"\n",
        "\n",
        "prob.solve()\n",
        "# The status of the solution is printed to the screen\n",
        "print(\"Status:\", LpStatus[prob.status])\n",
        "# Each of the variables is printed with it's resolved optimum value\n",
        "for v in prob.variables():\n",
        "    print(v.name, \"=\", v.varValue)\n",
        "print(\"Najmniejsza moc wydzielona przez rezystory na mostku to {} Wat \".format(value(prob.objective)))\n",
        "\n",
        "#print(\"Minimalna moc mostka to {} Wat \".format(min_moc))"
      ],
      "execution_count": null,
      "outputs": [
        {
          "output_type": "stream",
          "text": [
            "Status: Optimal\n",
            "i1 = 3.0\n",
            "i2 = 1.0\n",
            "i3 = 2.0\n",
            "i4 = 1.0\n",
            "i5 = 3.0\n",
            "Najmniejsza moc wydzielona przez rezystory na mostku to 52.0 Wat \n"
          ],
          "name": "stdout"
        },
        {
          "output_type": "stream",
          "text": [
            "/usr/local/lib/python3.6/dist-packages/pulp/pulp.py:1198: UserWarning: Spaces are not permitted in the name. Converted to '_'\n",
            "  warnings.warn(\"Spaces are not permitted in the name. Converted to '_'\")\n"
          ],
          "name": "stderr"
        }
      ]
    },
    {
      "cell_type": "code",
      "metadata": {
        "id": "M0PdDPWP884w",
        "colab": {
          "base_uri": "https://localhost:8080/"
        },
        "outputId": "7e99cf32-5b64-45fc-a819-28d21598aa2e"
      },
      "source": [
        "prob = LpProblem(\"Maksymalny prąd płynący przez układ \", LpMaximize)\n",
        "\n",
        "#constant data\n",
        "r=[8, 6, 4, 10,8];\n",
        "\n",
        "\n",
        "min_moc = LpVariable(\"Minimalna moc\", 0)\n",
        "i0 = LpVariable(\"i1\", 0)\n",
        "i1 = LpVariable(\"i2\", 0)\n",
        "i2 = LpVariable(\"i3\", 0)\n",
        "i3 = LpVariable(\"i4\", 0)\n",
        "i4 = LpVariable(\"i5\", 0)\n",
        "\n",
        "\n",
        "prob +=  i0+i1\n",
        "#prob += (u[0]+u[3])*(i0*i1)== min_moc,  \"wzór na minimalną moc mostka\"\n",
        "#prob += u[2]-u[3]-u[4]==0,\n",
        "prob += i2-i1 == i0, \"kirchoff_i1\"\n",
        "prob += i0+i1 == i2, \"kirchoff_i4\"\n",
        "prob += -i0+i2== i1, \"kirchoff_i3\"\n",
        "prob += i2-i4 == i3, \"kirchoff_i2\"\n",
        "prob += i2-i3 == i4, \"kirchoff_i5\"\n",
        "prob += i0*r[0] - i1*r[1] == 0, \"rownanie mocy 1\"\n",
        "prob += i3*r[3] - i4*r[4] == 0, \"rownanie mocy 2\"\n",
        "#limitations\n",
        "prob += i0 <= 2, \"ograniczenie gorne i1\"\n",
        "prob += i1 <= 3, \"ograniczenie gorne i2\"\n",
        "prob += i2 <= 4, \"ograniczenie gorne i3\"\n",
        "prob += i3 <= 2, \"ograniczenie gorne i4\"\n",
        "prob += i4 <= 2, \"ograniczenie gorne i5\"\n",
        "\n",
        "\n",
        "prob.solve()\n",
        "# The status of the solution is printed to the screen\n",
        "print(\"Status:\", LpStatus[prob.status])\n",
        "# Each of the variables is printed with it's resolved optimum value\n",
        "for v in prob.variables():\n",
        "    print(v.name, \"=\", v.varValue)\n",
        "print(\"Największy prąd który może przepłynąć przez układ to {} Ampery \".format(value(prob.objective)))"
      ],
      "execution_count": 9,
      "outputs": [
        {
          "output_type": "stream",
          "text": [
            "Status: Optimal\n",
            "i1 = 1.5428571\n",
            "i2 = 2.0571429\n",
            "i3 = 3.6\n",
            "i4 = 1.6\n",
            "i5 = 2.0\n",
            "Największy prąd który może przepłynąć przez układ to 3.6 Ampery \n"
          ],
          "name": "stdout"
        },
        {
          "output_type": "stream",
          "text": [
            "/usr/local/lib/python3.6/dist-packages/pulp/pulp.py:1198: UserWarning: Spaces are not permitted in the name. Converted to '_'\n",
            "  warnings.warn(\"Spaces are not permitted in the name. Converted to '_'\")\n"
          ],
          "name": "stderr"
        }
      ]
    }
  ]
}